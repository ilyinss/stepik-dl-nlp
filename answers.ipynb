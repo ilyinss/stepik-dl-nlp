{
 "cells": [
  {
   "cell_type": "markdown",
   "metadata": {},
   "source": [
    "\n",
    "# Закон Ципфа  \n",
    "$$f(rank, Z(s, N)) = \\frac{1}{Z(s, N)*rank^{s}}$$  \n",
    "\n",
    "## Z-константа  \n",
    "$$Z(s, N) = \\sum\\limits_{i=1}^{N}i^{-s}$$  "
   ]
  },
  {
   "cell_type": "code",
   "execution_count": 50,
   "metadata": {},
   "outputs": [],
   "source": [
    "vocabl = {'a':1, 'b':2, 'c':3}\n",
    "s = 2"
   ]
  },
  {
   "cell_type": "code",
   "execution_count": 51,
   "metadata": {},
   "outputs": [],
   "source": [
    "def calc_zipf(entry_dict, s):\n",
    "    n = len(entry_dict)\n",
    "    # z - нормировочная константа\n",
    "    z = sum([i**(-s) for i in range(1, n+1)])\n",
    "    zipf_l = []\n",
    "    for i in entry_dict.keys():    \n",
    "        zipf_l.append((z**(-1))*(1/entry_dict.get(i)**s))\n",
    "    return(zipf_l)"
   ]
  },
  {
   "cell_type": "code",
   "execution_count": 52,
   "metadata": {},
   "outputs": [
    {
     "data": {
      "text/plain": [
       "[0.7346938775510203, 0.18367346938775508, 0.08163265306122448]"
      ]
     },
     "execution_count": 52,
     "metadata": {},
     "output_type": "execute_result"
    }
   ],
   "source": [
    "calc_zipf(vocabl, s)"
   ]
  },
  {
   "cell_type": "code",
   "execution_count": null,
   "metadata": {},
   "outputs": [],
   "source": []
  }
 ],
 "metadata": {
  "interpreter": {
   "hash": "00125c6e5922b1d36e973e80bd3f7977debb1f35a6d2102f4b9bdb0261afff1c"
  },
  "kernelspec": {
   "display_name": "Python 3.9.6 64-bit ('study_env': conda)",
   "name": "python3"
  },
  "language_info": {
   "codemirror_mode": {
    "name": "ipython",
    "version": 3
   },
   "file_extension": ".py",
   "mimetype": "text/x-python",
   "name": "python",
   "nbconvert_exporter": "python",
   "pygments_lexer": "ipython3",
   "version": "3.9.6"
  },
  "orig_nbformat": 4
 },
 "nbformat": 4,
 "nbformat_minor": 2
}
