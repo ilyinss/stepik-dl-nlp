{
 "cells": [
  {
   "cell_type": "markdown",
   "metadata": {},
   "source": [
    "# Тематическая классификация длинных текстов - TFIDF и LogReg"
   ]
  },
  {
   "cell_type": "code",
   "execution_count": 17,
   "metadata": {},
   "outputs": [],
   "source": [
    "# Если Вы запускаете ноутбук на colab или kaggle,\n",
    "# выполните следующие строчки, чтобы подгрузить библиотеку dlnlputils:\n",
    "\n",
    "# !git clone https://github.com/Samsung-IT-Academy/stepik-dl-nlp.git && pip install -r stepik-dl-nlp/requirements.txt\n",
    "import sys; sys.path.append('./stepik-dl-nlp')"
   ]
  },
  {
   "cell_type": "code",
   "execution_count": 1,
   "metadata": {
    "ExecuteTime": {
     "end_time": "2019-09-12T12:42:57.265628Z",
     "start_time": "2019-09-12T12:42:55.188211Z"
    }
   },
   "outputs": [],
   "source": [
    "import warnings\n",
    "warnings.filterwarnings('ignore')\n",
    "\n",
    "from sklearn.datasets import fetch_20newsgroups\n",
    "from sklearn.metrics import accuracy_score\n",
    "\n",
    "import numpy as np\n",
    "\n",
    "import matplotlib.pyplot as plt\n",
    "%matplotlib inline\n",
    "\n",
    "import collections\n",
    "\n",
    "import torch\n",
    "from torch import nn\n",
    "from torch.nn import functional as F\n",
    "\n",
    "import dlnlputils\n",
    "from dlnlputils.data import tokenize_text_simple_regex, tokenize_corpus, build_vocabulary, \\\n",
    "    vectorize_texts, SparseFeaturesDataset\n",
    "from dlnlputils.pipeline import train_eval_loop, predict_with_model, init_random_seed\n",
    "\n",
    "init_random_seed()\n",
    "\n",
    "# upd\n",
    "import nltk\n",
    "from nltk.corpus import stopwords\n",
    "from nltk.tokenize import word_tokenize"
   ]
  },
  {
   "cell_type": "markdown",
   "metadata": {},
   "source": [
    "## Предобработка текстов и подготовка признаков"
   ]
  },
  {
   "cell_type": "code",
   "execution_count": 11,
   "metadata": {
    "ExecuteTime": {
     "end_time": "2019-09-12T12:42:57.847399Z",
     "start_time": "2019-09-12T12:42:57.268037Z"
    }
   },
   "outputs": [
    {
     "name": "stdout",
     "output_type": "stream",
     "text": [
      "Количество обучающих текстов 11314\n",
      "Количество тестовых текстов 7532\n",
      "\n",
      "From: lerxst@wam.umd.edu (where's my thing)\n",
      "Subject: WHAT car is this!?\n",
      "Nntp-Posting-Host: rac3.wam.umd.edu\n",
      "Organization: University of Maryland, College Park\n",
      "Lines: 15\n",
      "\n",
      " I was wondering if anyone out there could enlighten me on this car I saw\n",
      "the other day. It was a 2-door sports car, looked to be from the late 60s/\n",
      "early 70s. It was called a Bricklin. The doors were really small. In addition,\n",
      "the front bumper was separate from the rest of the body. This is \n",
      "all I know. If anyone can tellme a model name, engine specs, years\n",
      "of production, where this car is made, history, or whatever info you\n",
      "have on this funky looking car, please e-mail.\n",
      "\n",
      "Thanks,\n",
      "- IL\n",
      "   ---- brought to you by your neighborhood Lerxst ----\n",
      "\n",
      "Метка 7\n"
     ]
    }
   ],
   "source": [
    "train_source = fetch_20newsgroups(subset='train')\n",
    "test_source = fetch_20newsgroups(subset='test')\n",
    "\n",
    "print('Количество обучающих текстов', len(train_source['data']))\n",
    "print('Количество тестовых текстов', len(test_source['data']))\n",
    "print()\n",
    "print(train_source['data'][0].strip())\n",
    "\n",
    "print()\n",
    "print('Метка', train_source['target'][0])"
   ]
  },
  {
   "cell_type": "markdown",
   "metadata": {},
   "source": [
    "### Подготовка признаков"
   ]
  },
  {
   "cell_type": "code",
   "execution_count": 12,
   "metadata": {
    "ExecuteTime": {
     "end_time": "2019-09-12T12:43:00.294422Z",
     "start_time": "2019-09-12T12:42:57.849386Z"
    }
   },
   "outputs": [
    {
     "name": "stdout",
     "output_type": "stream",
     "text": [
      "from lerxst where thing subject what this nntp posting host rac3 organization university maryland college park lines wondering anyone there could enlighten this other door sports looked from late early called bricklin doors were really small addition front bumper separate from rest body this know anyone tellme model name engine specs years production where this made history whatever info have this funky looking please mail thanks brought your neighborhood lerxst\n"
     ]
    }
   ],
   "source": [
    "train_tokenized = tokenize_corpus(train_source['data'])\n",
    "test_tokenized = tokenize_corpus(test_source['data'])\n",
    "\n",
    "print(' '.join(train_tokenized[0]))"
   ]
  },
  {
   "cell_type": "code",
   "execution_count": 13,
   "metadata": {},
   "outputs": [
    {
     "data": {
      "text/plain": [
       "11314"
      ]
     },
     "execution_count": 13,
     "metadata": {},
     "output_type": "execute_result"
    }
   ],
   "source": [
    "len(train_tokenized)"
   ]
  },
  {
   "cell_type": "code",
   "execution_count": 14,
   "metadata": {},
   "outputs": [],
   "source": [
    "# stopwords filter\n",
    "stop_words = set(stopwords.words('english'))\n",
    "\n",
    "train_clear = []\n",
    "test_clear=[]\n",
    "\n",
    "for i in train_tokenized:\n",
    "    i = [w for w in i if not w.lower() in stop_words]\n",
    "    train_clear.append(i)\n",
    "    \n",
    "for i in test_tokenized:\n",
    "    i = [w for w in i if not w.lower() in stop_words]\n",
    "    test_clear.append(i)\n",
    "\n",
    "# len(train_clear)"
   ]
  },
  {
   "cell_type": "code",
   "execution_count": 17,
   "metadata": {
    "ExecuteTime": {
     "end_time": "2019-09-12T12:43:00.825372Z",
     "start_time": "2019-09-12T12:43:00.297392Z"
    }
   },
   "outputs": [
    {
     "name": "stdout",
     "output_type": "stream",
     "text": [
      "Количество уникальных токенов 47784\n",
      "[('writes', 0), ('article', 1), ('posting', 2), ('host', 3), ('nntp', 4), ('university', 5), ('would', 6), ('like', 7), ('know', 8), ('think', 9)]\n"
     ]
    }
   ],
   "source": [
    "MAX_DF = 0.9\n",
    "MIN_COUNT = 2\n",
    "vocabulary, word_doc_freq = build_vocabulary(train_clear, max_doc_freq=MAX_DF, min_count=MIN_COUNT)\n",
    "UNIQUE_WORDS_N = len(vocabulary)\n",
    "print('Количество уникальных токенов', UNIQUE_WORDS_N)\n",
    "print(list(vocabulary.items())[:10])"
   ]
  },
  {
   "cell_type": "code",
   "execution_count": 18,
   "metadata": {
    "ExecuteTime": {
     "end_time": "2019-09-12T12:43:01.524600Z",
     "start_time": "2019-09-12T12:43:00.829107Z"
    }
   },
   "outputs": [
    {
     "data": {
      "image/png": "[encoded data removed]",
      "text/plain": [
       "<Figure size 432x288 with 1 Axes>"
      ]
     },
     "metadata": {
      "needs_background": "light"
     },
     "output_type": "display_data"
    }
   ],
   "source": [
    "plt.hist(word_doc_freq, bins=20)\n",
    "plt.title('Распределение относительных частот слов')\n",
    "plt.yscale('log');"
   ]
  },
  {
   "cell_type": "code",
   "execution_count": 19,
   "metadata": {
    "ExecuteTime": {
     "end_time": "2019-09-12T12:44:16.094816Z",
     "start_time": "2019-09-12T12:43:01.526554Z"
    }
   },
   "outputs": [
    {
     "name": "stdout",
     "output_type": "stream",
     "text": [
      "Размерность матрицы признаков обучающей выборки (11314, 47784)\n",
      "Размерность матрицы признаков тестовой выборки (7532, 47784)\n",
      "\n",
      "Количество ненулевых элементов в обучающей выборке 1053343\n",
      "Процент заполненности матрицы признаков 0.19%\n",
      "\n",
      "Количество ненулевых элементов в тестовой выборке 658888\n",
      "Процент заполненности матрицы признаков 0.18%\n"
     ]
    }
   ],
   "source": [
    "VECTORIZATION_MODE = 'tfidf'\n",
    "train_vectors = vectorize_texts(train_clear, vocabulary, word_doc_freq, mode=VECTORIZATION_MODE)\n",
    "test_vectors = vectorize_texts(test_clear, vocabulary, word_doc_freq, mode=VECTORIZATION_MODE)\n",
    "\n",
    "print('Размерность матрицы признаков обучающей выборки', train_vectors.shape)\n",
    "print('Размерность матрицы признаков тестовой выборки', test_vectors.shape)\n",
    "print()\n",
    "print('Количество ненулевых элементов в обучающей выборке', train_vectors.nnz)\n",
    "print('Процент заполненности матрицы признаков {:.2f}%'.format(train_vectors.nnz * 100 / (train_vectors.shape[0] * train_vectors.shape[1])))\n",
    "print()\n",
    "print('Количество ненулевых элементов в тестовой выборке', test_vectors.nnz)\n",
    "print('Процент заполненности матрицы признаков {:.2f}%'.format(test_vectors.nnz * 100 / (test_vectors.shape[0] * test_vectors.shape[1])))"
   ]
  },
  {
   "cell_type": "code",
   "execution_count": 20,
   "metadata": {
    "ExecuteTime": {
     "end_time": "2019-09-12T12:44:16.857114Z",
     "start_time": "2019-09-12T12:44:16.098773Z"
    }
   },
   "outputs": [
    {
     "data": {
      "image/png": "[encoded data removed]",
      "text/plain": [
       "<Figure size 432x288 with 1 Axes>"
      ]
     },
     "metadata": {
      "needs_background": "light"
     },
     "output_type": "display_data"
    }
   ],
   "source": [
    "plt.hist(train_vectors.data, bins=20)\n",
    "plt.title('Распределение весов признаков')\n",
    "plt.yscale('log');"
   ]
  },
  {
   "cell_type": "markdown",
   "metadata": {},
   "source": [
    "### Распределение классов"
   ]
  },
  {
   "cell_type": "code",
   "execution_count": 21,
   "metadata": {
    "ExecuteTime": {
     "end_time": "2019-09-12T12:44:16.864960Z",
     "start_time": "2019-09-12T12:44:16.859476Z"
    }
   },
   "outputs": [
    {
     "name": "stdout",
     "output_type": "stream",
     "text": [
      "Количество уникальных меток 20\n"
     ]
    }
   ],
   "source": [
    "UNIQUE_LABELS_N = len(set(train_source['target']))\n",
    "print('Количество уникальных меток', UNIQUE_LABELS_N)"
   ]
  },
  {
   "cell_type": "code",
   "execution_count": 22,
   "metadata": {
    "ExecuteTime": {
     "end_time": "2019-09-12T12:44:17.106036Z",
     "start_time": "2019-09-12T12:44:16.867310Z"
    }
   },
   "outputs": [
    {
     "data": {
      "image/png": "[encoded data removed]",
      "text/plain": [
       "<Figure size 432x288 with 1 Axes>"
      ]
     },
     "metadata": {
      "needs_background": "light"
     },
     "output_type": "display_data"
    }
   ],
   "source": [
    "plt.hist(train_source['target'], bins=np.arange(0, 21))\n",
    "plt.title('Распределение меток в обучающей выборке');"
   ]
  },
  {
   "cell_type": "code",
   "execution_count": 23,
   "metadata": {
    "ExecuteTime": {
     "end_time": "2019-09-12T12:44:17.312198Z",
     "start_time": "2019-09-12T12:44:17.109884Z"
    },
    "scrolled": true
   },
   "outputs": [
    {
     "data": {
      "image/png": "[encoded data removed]",
      "text/plain": [
       "<Figure size 432x288 with 1 Axes>"
      ]
     },
     "metadata": {
      "needs_background": "light"
     },
     "output_type": "display_data"
    }
   ],
   "source": [
    "plt.hist(test_source['target'], bins=np.arange(0, 21))\n",
    "plt.title('Распределение меток в тестовой выборке');"
   ]
  },
  {
   "cell_type": "markdown",
   "metadata": {},
   "source": [
    "### PyTorch Dataset"
   ]
  },
  {
   "cell_type": "code",
   "execution_count": 24,
   "metadata": {
    "ExecuteTime": {
     "end_time": "2019-09-12T12:44:17.319292Z",
     "start_time": "2019-09-12T12:44:17.315074Z"
    }
   },
   "outputs": [],
   "source": [
    "train_dataset = SparseFeaturesDataset(train_vectors, train_source['target'])\n",
    "test_dataset = SparseFeaturesDataset(test_vectors, test_source['target'])"
   ]
  },
  {
   "cell_type": "markdown",
   "metadata": {},
   "source": [
    "## Обучение модели на PyTorch"
   ]
  },
  {
   "cell_type": "code",
   "execution_count": 35,
   "metadata": {
    "ExecuteTime": {
     "end_time": "2019-09-12T12:46:22.371272Z",
     "start_time": "2019-09-12T12:44:17.322178Z"
    },
    "scrolled": false
   },
   "outputs": [
    {
     "name": "stdout",
     "output_type": "stream",
     "text": [
      "Эпоха 0\n",
      "Эпоха: 354 итераций, 2.27 сек\n",
      "Среднее значение функции потерь на обучении 2.933662540495059\n",
      "Среднее значение функции потерь на валидации 2.910267906673884\n",
      "Новая лучшая модель!\n",
      "\n",
      "Эпоха 1\n",
      "Эпоха: 354 итераций, 2.40 сек\n",
      "Среднее значение функции потерь на обучении 2.738331847271677\n",
      "Среднее значение функции потерь на валидации 2.824121248924126\n",
      "Новая лучшая модель!\n",
      "\n",
      "Эпоха 2\n",
      "Эпоха: 354 итераций, 2.32 сек\n",
      "Среднее значение функции потерь на обучении 2.5398735036957736\n",
      "Среднее значение функции потерь на валидации 2.7387980727826133\n",
      "Новая лучшая модель!\n",
      "\n",
      "Эпоха 3\n",
      "Эпоха: 354 итераций, 2.35 сек\n",
      "Среднее значение функции потерь на обучении 2.3458503437581038\n",
      "Среднее значение функции потерь на валидации 2.6562338956331804\n",
      "Новая лучшая модель!\n",
      "\n",
      "Эпоха 4\n",
      "Эпоха: 354 итераций, 2.30 сек\n",
      "Среднее значение функции потерь на обучении 2.1594613965621776\n",
      "Среднее значение функции потерь на валидации 2.5760838056014754\n",
      "Новая лучшая модель!\n",
      "\n",
      "Эпоха 5\n",
      "Эпоха: 354 итераций, 2.23 сек\n",
      "Среднее значение функции потерь на обучении 1.9829274671899397\n",
      "Среднее значение функции потерь на валидации 2.498605863522675\n",
      "Новая лучшая модель!\n",
      "\n",
      "Эпоха 6\n",
      "Эпоха: 354 итераций, 2.27 сек\n",
      "Среднее значение функции потерь на обучении 1.8181883355991988\n",
      "Среднее значение функции потерь на валидации 2.425149501380274\n",
      "Новая лучшая модель!\n",
      "\n",
      "Эпоха 7\n",
      "Эпоха: 354 итераций, 2.24 сек\n",
      "Среднее значение функции потерь на обучении 1.6651395630028287\n",
      "Среднее значение функции потерь на валидации 2.3539745423753384\n",
      "Новая лучшая модель!\n",
      "\n",
      "Эпоха 8\n",
      "Эпоха: 354 итераций, 2.17 сек\n",
      "Среднее значение функции потерь на обучении 1.5235483966304757\n",
      "Среднее значение функции потерь на валидации 2.286713775941881\n",
      "Новая лучшая модель!\n",
      "\n",
      "Эпоха 9\n",
      "Эпоха: 354 итераций, 2.26 сек\n",
      "Среднее значение функции потерь на обучении 1.3933935364087422\n",
      "Среднее значение функции потерь на валидации 2.2224840345019\n",
      "Новая лучшая модель!\n",
      "\n",
      "Эпоха 10\n",
      "Эпоха: 354 итераций, 2.24 сек\n",
      "Среднее значение функции потерь на обучении 1.2734609697498172\n",
      "Среднее значение функции потерь на валидации 2.1631693001520835\n",
      "Новая лучшая модель!\n",
      "\n",
      "Эпоха 11\n",
      "Эпоха: 354 итераций, 2.20 сек\n",
      "Среднее значение функции потерь на обучении 1.164785080878748\n",
      "Среднее значение функции потерь на валидации 2.104840198310755\n",
      "Новая лучшая модель!\n",
      "\n",
      "Эпоха 12\n",
      "Эпоха: 354 итераций, 2.21 сек\n",
      "Среднее значение функции потерь на обучении 1.0656437074060494\n",
      "Среднее значение функции потерь на валидации 2.0505036504591927\n",
      "Новая лучшая модель!\n",
      "\n",
      "Эпоха 13\n",
      "Эпоха: 354 итераций, 2.31 сек\n",
      "Среднее значение функции потерь на обучении 0.9753043845211719\n",
      "Среднее значение функции потерь на валидации 1.9996505127114765\n",
      "Новая лучшая модель!\n",
      "\n",
      "Эпоха 14\n",
      "Эпоха: 354 итераций, 2.25 сек\n",
      "Среднее значение функции потерь на обучении 0.8936295209631409\n",
      "Среднее значение функции потерь на валидации 1.9495765753721788\n",
      "Новая лучшая модель!\n",
      "\n",
      "Эпоха 15\n",
      "Эпоха: 354 итераций, 2.20 сек\n",
      "Среднее значение функции потерь на обучении 0.8188361633295393\n",
      "Среднее значение функции потерь на валидации 1.9037485259064173\n",
      "Новая лучшая модель!\n",
      "\n",
      "Эпоха 16\n",
      "Эпоха: 354 итераций, 2.21 сек\n",
      "Среднее значение функции потерь на обучении 0.7520873568489053\n",
      "Среднее значение функции потерь на валидации 1.8598678970741014\n",
      "Новая лучшая модель!\n",
      "\n",
      "Эпоха 17\n",
      "Эпоха: 354 итераций, 2.27 сек\n",
      "Среднее значение функции потерь на обучении 0.6906508971742318\n",
      "Среднее значение функции потерь на валидации 1.8195072968127364\n",
      "Новая лучшая модель!\n",
      "\n",
      "Эпоха 18\n",
      "Эпоха: 354 итераций, 2.22 сек\n",
      "Среднее значение функции потерь на обучении 0.635313549620957\n",
      "Среднее значение функции потерь на валидации 1.7790528394408145\n",
      "Новая лучшая модель!\n",
      "\n",
      "Эпоха 19\n",
      "Эпоха: 354 итераций, 2.24 сек\n",
      "Среднее значение функции потерь на обучении 0.5847369126849256\n",
      "Среднее значение функции потерь на валидации 1.7407232376478485\n",
      "Новая лучшая модель!\n",
      "\n",
      "Эпоха 20\n",
      "Эпоха: 354 итераций, 2.31 сек\n",
      "Среднее значение функции потерь на обучении 0.5388877612386046\n",
      "Среднее значение функции потерь на валидации 1.7061530134435428\n",
      "Новая лучшая модель!\n",
      "\n",
      "Эпоха 21\n",
      "Эпоха: 354 итераций, 2.21 сек\n",
      "Среднее значение функции потерь на обучении 0.49712164590587726\n",
      "Среднее значение функции потерь на валидации 1.6705581631700872\n",
      "Новая лучшая модель!\n",
      "\n",
      "Эпоха 22\n",
      "Эпоха: 354 итераций, 2.24 сек\n",
      "Среднее значение функции потерь на обучении 0.45886110922711043\n",
      "Среднее значение функции потерь на валидации 1.6377648100004358\n",
      "Новая лучшая модель!\n",
      "\n",
      "Эпоха 23\n",
      "Эпоха: 354 итераций, 2.21 сек\n",
      "Среднее значение функции потерь на обучении 0.4247688647717406\n",
      "Среднее значение функции потерь на валидации 1.6086088949340884\n",
      "Новая лучшая модель!\n",
      "\n",
      "Эпоха 24\n",
      "Эпоха: 354 итераций, 2.23 сек\n",
      "Среднее значение функции потерь на обучении 0.39309564573785005\n",
      "Среднее значение функции потерь на валидации 1.5803067749839719\n",
      "Новая лучшая модель!\n",
      "\n",
      "Эпоха 25\n",
      "Эпоха: 354 итераций, 2.24 сек\n",
      "Среднее значение функции потерь на обучении 0.36408556900960576\n",
      "Среднее значение функции потерь на валидации 1.5525344125295089\n",
      "Новая лучшая модель!\n",
      "\n",
      "Эпоха 26\n",
      "Эпоха: 354 итераций, 2.23 сек\n",
      "Среднее значение функции потерь на обучении 0.3379338164787508\n",
      "Среднее значение функции потерь на валидации 1.5263187799413325\n",
      "Новая лучшая модель!\n",
      "\n",
      "Эпоха 27\n",
      "Эпоха: 354 итераций, 2.24 сек\n",
      "Среднее значение функции потерь на обучении 0.31376636722835444\n",
      "Среднее значение функции потерь на валидации 1.5011605342565957\n",
      "Новая лучшая модель!\n",
      "\n",
      "Эпоха 28\n",
      "Эпоха: 354 итераций, 2.21 сек\n",
      "Среднее значение функции потерь на обучении 0.2920643511717602\n",
      "Среднее значение функции потерь на валидации 1.4778590414483668\n",
      "Новая лучшая модель!\n",
      "\n",
      "Эпоха 29\n",
      "Эпоха: 354 итераций, 2.20 сек\n",
      "Среднее значение функции потерь на обучении 0.2717333879258673\n",
      "Среднее значение функции потерь на валидации 1.4543441374928265\n",
      "Новая лучшая модель!\n",
      "\n",
      "Эпоха 30\n",
      "Эпоха: 354 итераций, 2.20 сек\n",
      "Среднее значение функции потерь на обучении 0.25324244614122277\n",
      "Среднее значение функции потерь на валидации 1.4330445240109653\n",
      "Новая лучшая модель!\n",
      "\n",
      "Эпоха 31\n",
      "Эпоха: 354 итераций, 2.18 сек\n",
      "Среднее значение функции потерь на обучении 0.2366375481383612\n",
      "Среднее значение функции потерь на валидации 1.4121893692319676\n",
      "Новая лучшая модель!\n",
      "\n",
      "Эпоха 32\n",
      "Эпоха: 354 итераций, 2.20 сек\n",
      "Среднее значение функции потерь на обучении 0.2207898154518025\n",
      "Среднее значение функции потерь на валидации 1.3934658195002605\n",
      "Новая лучшая модель!\n",
      "\n",
      "Эпоха 33\n",
      "Эпоха: 354 итераций, 2.19 сек\n",
      "Среднее значение функции потерь на обучении 0.20637913566019575\n",
      "Среднее значение функции потерь на валидации 1.3733127415180206\n",
      "Новая лучшая модель!\n",
      "\n",
      "Эпоха 34\n",
      "Эпоха: 354 итераций, 2.20 сек\n",
      "Среднее значение функции потерь на обучении 0.19349498402769283\n",
      "Среднее значение функции потерь на валидации 1.3564755259934118\n",
      "Новая лучшая модель!\n",
      "\n",
      "Эпоха 35\n",
      "Эпоха: 354 итераций, 2.20 сек\n",
      "Среднее значение функции потерь на обучении 0.1811251066793493\n",
      "Среднее значение функции потерь на валидации 1.3388340000884007\n",
      "Новая лучшая модель!\n",
      "\n",
      "Эпоха 36\n",
      "Эпоха: 354 итераций, 2.22 сек\n",
      "Среднее значение функции потерь на обучении 0.16987447787897061\n",
      "Среднее значение функции потерь на валидации 1.3216366219823643\n",
      "Новая лучшая модель!\n",
      "\n",
      "Эпоха 37\n",
      "Эпоха: 354 итераций, 2.19 сек\n",
      "Среднее значение функции потерь на обучении 0.1596959110054761\n",
      "Среднее значение функции потерь на валидации 1.3083096174365383\n",
      "Новая лучшая модель!\n",
      "\n",
      "Эпоха 38\n",
      "Эпоха: 354 итераций, 2.21 сек\n",
      "Среднее значение функции потерь на обучении 0.14996138705456324\n",
      "Среднее значение функции потерь на валидации 1.2936020665249581\n",
      "Новая лучшая модель!\n",
      "\n",
      "Эпоха 39\n",
      "Эпоха: 354 итераций, 2.21 сек\n",
      "Среднее значение функции потерь на обучении 0.14121851379756872\n",
      "Среднее значение функции потерь на валидации 1.2788601373716937\n",
      "Новая лучшая модель!\n",
      "\n",
      "Эпоха 40\n",
      "Эпоха: 354 итераций, 2.19 сек\n",
      "Среднее значение функции потерь на обучении 0.13287016354753808\n",
      "Среднее значение функции потерь на валидации 1.2668831151420787\n",
      "Новая лучшая модель!\n",
      "\n",
      "Эпоха 41\n",
      "Эпоха: 354 итераций, 2.24 сек\n",
      "Среднее значение функции потерь на обучении 0.12521654316934488\n",
      "Среднее значение функции потерь на валидации 1.2542108764587823\n",
      "Новая лучшая модель!\n",
      "\n",
      "Эпоха 42\n",
      "Эпоха: 354 итераций, 2.30 сек\n",
      "Среднее значение функции потерь на обучении 0.11827272327227445\n",
      "Среднее значение функции потерь на валидации 1.2423068206694166\n",
      "Новая лучшая модель!\n",
      "\n",
      "Эпоха 43\n",
      "Эпоха: 354 итераций, 2.25 сек\n",
      "Среднее значение функции потерь на обучении 0.11177303280028919\n",
      "Среднее значение функции потерь на валидации 1.2287715024362176\n",
      "Новая лучшая модель!\n",
      "\n",
      "Эпоха 44\n",
      "Эпоха: 354 итераций, 2.20 сек\n",
      "Среднее значение функции потерь на обучении 0.10570762995735737\n",
      "Среднее значение функции потерь на валидации 1.220535354594053\n",
      "Новая лучшая модель!\n",
      "\n",
      "Эпоха 45\n",
      "Эпоха: 354 итераций, 2.20 сек\n",
      "Среднее значение функции потерь на обучении 0.10010379553893528\n",
      "Среднее значение функции потерь на валидации 1.207311684297303\n",
      "Новая лучшая модель!\n",
      "\n",
      "Эпоха 46\n",
      "Эпоха: 354 итераций, 2.18 сек\n",
      "Среднее значение функции потерь на обучении 0.09475708827586835\n",
      "Среднее значение функции потерь на валидации 1.1979467399039512\n",
      "Новая лучшая модель!\n",
      "\n",
      "Эпоха 47\n",
      "Эпоха: 354 итераций, 2.27 сек\n",
      "Среднее значение функции потерь на обучении 0.0897255644444271\n",
      "Среднее значение функции потерь на валидации 1.1871931257389359\n",
      "Новая лучшая модель!\n",
      "\n",
      "Эпоха 48\n",
      "Эпоха: 354 итераций, 2.20 сек\n",
      "Среднее значение функции потерь на обучении 0.08513246636080035\n",
      "Среднее значение функции потерь на валидации 1.1815264331082167\n",
      "Новая лучшая модель!\n",
      "\n",
      "Эпоха 49\n",
      "Эпоха: 354 итераций, 2.23 сек\n",
      "Среднее значение функции потерь на обучении 0.08087822037754254\n",
      "Среднее значение функции потерь на валидации 1.1739286954625179\n",
      "Новая лучшая модель!\n",
      "\n",
      "Эпоха 50\n",
      "Эпоха: 354 итераций, 2.30 сек\n",
      "Среднее значение функции потерь на обучении 0.07693233374653563\n",
      "Среднее значение функции потерь на валидации 1.1645081626661753\n",
      "Новая лучшая модель!\n",
      "\n",
      "Эпоха 51\n",
      "Эпоха: 354 итераций, 2.20 сек\n",
      "Среднее значение функции потерь на обучении 0.07321433531972817\n",
      "Среднее значение функции потерь на валидации 1.1545882616507805\n",
      "Новая лучшая модель!\n",
      "\n",
      "Эпоха 52\n",
      "Эпоха: 354 итераций, 2.22 сек\n",
      "Среднее значение функции потерь на обучении 0.06962568132932913\n",
      "Среднее значение функции потерь на валидации 1.1503399774684744\n",
      "Новая лучшая модель!\n",
      "\n",
      "Эпоха 53\n",
      "Эпоха: 354 итераций, 2.29 сек\n",
      "Среднее значение функции потерь на обучении 0.06653064352034008\n",
      "Среднее значение функции потерь на валидации 1.144879643189705\n",
      "Новая лучшая модель!\n",
      "\n",
      "Эпоха 54\n",
      "Эпоха: 354 итераций, 2.21 сек\n",
      "Среднее значение функции потерь на обучении 0.06332743031335837\n",
      "Среднее значение функции потерь на валидации 1.1352917647967904\n",
      "Новая лучшая модель!\n",
      "\n",
      "Эпоха 55\n",
      "Эпоха: 354 итераций, 2.25 сек\n",
      "Среднее значение функции потерь на обучении 0.06032196417093109\n",
      "Среднее значение функции потерь на валидации 1.1278795125120777\n",
      "Новая лучшая модель!\n",
      "\n",
      "Эпоха 56\n",
      "Эпоха: 354 итераций, 2.21 сек\n",
      "Среднее значение функции потерь на обучении 0.05779307365869987\n",
      "Среднее значение функции потерь на валидации 1.1251078096486755\n",
      "Новая лучшая модель!\n",
      "\n",
      "Эпоха 57\n",
      "Эпоха: 354 итераций, 2.23 сек\n",
      "Среднее значение функции потерь на обучении 0.055120887363718896\n",
      "Среднее значение функции потерь на валидации 1.1159545468576884\n",
      "Новая лучшая модель!\n",
      "\n",
      "Эпоха 58\n",
      "Эпоха: 354 итераций, 2.21 сек\n",
      "Среднее значение функции потерь на обучении 0.052786639536399456\n",
      "Среднее значение функции потерь на валидации 1.1130339710389154\n",
      "Новая лучшая модель!\n",
      "\n",
      "Эпоха 59\n",
      "Эпоха: 354 итераций, 2.19 сек\n",
      "Среднее значение функции потерь на обучении 0.050479832897225844\n",
      "Среднее значение функции потерь на валидации 1.1071394944595079\n",
      "Новая лучшая модель!\n",
      "\n",
      "Эпоха 60\n",
      "Эпоха: 354 итераций, 2.21 сек\n",
      "Среднее значение функции потерь на обучении 0.04844234168192761\n",
      "Среднее значение функции потерь на валидации 1.1027686388815863\n",
      "Новая лучшая модель!\n",
      "\n",
      "Эпоха 61\n",
      "Эпоха: 354 итераций, 2.20 сек\n",
      "Среднее значение функции потерь на обучении 0.046326517315560395\n",
      "Среднее значение функции потерь на валидации 1.0977027873366565\n",
      "Новая лучшая модель!\n",
      "\n",
      "Эпоха 62\n",
      "Эпоха: 354 итераций, 2.22 сек\n",
      "Среднее значение функции потерь на обучении 0.044556937711892154\n",
      "Среднее значение функции потерь на валидации 1.094356053714025\n",
      "Новая лучшая модель!\n",
      "\n",
      "Эпоха 63\n",
      "Эпоха: 354 итераций, 2.19 сек\n",
      "Среднее значение функции потерь на обучении 0.04256648009269377\n",
      "Среднее значение функции потерь на валидации 1.0904907099271224\n",
      "Новая лучшая модель!\n",
      "\n",
      "Эпоха 64\n",
      "Эпоха: 354 итераций, 2.23 сек\n",
      "Среднее значение функции потерь на обучении 0.04095262120014825\n",
      "Среднее значение функции потерь на валидации 1.0865890401399743\n",
      "Новая лучшая модель!\n",
      "\n",
      "Эпоха 65\n",
      "Эпоха: 354 итераций, 2.23 сек\n",
      "Среднее значение функции потерь на обучении 0.039350881267570505\n",
      "Среднее значение функции потерь на валидации 1.083535583089974\n",
      "Новая лучшая модель!\n",
      "\n",
      "Эпоха 66\n",
      "Эпоха: 354 итераций, 2.21 сек\n",
      "Среднее значение функции потерь на обучении 0.03782581080587865\n",
      "Среднее значение функции потерь на валидации 1.082484997177528\n",
      "Новая лучшая модель!\n",
      "\n",
      "Эпоха 67\n",
      "Эпоха: 354 итераций, 2.20 сек\n",
      "Среднее значение функции потерь на обучении 0.03638311945188706\n",
      "Среднее значение функции потерь на валидации 1.0767082486112238\n",
      "Новая лучшая модель!\n",
      "\n",
      "Эпоха 68\n",
      "Эпоха: 354 итераций, 2.20 сек\n",
      "Среднее значение функции потерь на обучении 0.03500805153395707\n",
      "Среднее значение функции потерь на валидации 1.0744396410251067\n",
      "Новая лучшая модель!\n",
      "\n",
      "Эпоха 69\n",
      "Эпоха: 354 итераций, 2.18 сек\n",
      "Среднее значение функции потерь на обучении 0.03379317544832152\n",
      "Среднее значение функции потерь на валидации 1.0721084240634562\n",
      "Новая лучшая модель!\n",
      "\n",
      "Эпоха 70\n",
      "Эпоха: 354 итераций, 2.22 сек\n",
      "Среднее значение функции потерь на обучении 0.032515128906079604\n",
      "Среднее значение функции потерь на валидации 1.0682431883731132\n",
      "Новая лучшая модель!\n",
      "\n",
      "Эпоха 71\n",
      "Эпоха: 354 итераций, 2.21 сек\n",
      "Среднее значение функции потерь на обучении 0.031347088782132555\n",
      "Среднее значение функции потерь на валидации 1.0674369835247428\n",
      "Новая лучшая модель!\n",
      "\n",
      "Эпоха 72\n",
      "Эпоха: 354 итераций, 2.22 сек\n",
      "Среднее значение функции потерь на обучении 0.03020640882784448\n",
      "Среднее значение функции потерь на валидации 1.064635890772787\n",
      "Новая лучшая модель!\n",
      "\n",
      "Эпоха 73\n",
      "Эпоха: 354 итераций, 2.23 сек\n",
      "Среднее значение функции потерь на обучении 0.02919407659946904\n",
      "Среднее значение функции потерь на валидации 1.0617402433338812\n",
      "Новая лучшая модель!\n",
      "\n",
      "Эпоха 74\n",
      "Эпоха: 354 итераций, 2.25 сек\n",
      "Среднее значение функции потерь на обучении 0.02818624775246375\n",
      "Среднее значение функции потерь на валидации 1.0609559133901434\n",
      "Новая лучшая модель!\n",
      "\n",
      "Эпоха 75\n",
      "Эпоха: 354 итераций, 2.20 сек\n",
      "Среднее значение функции потерь на обучении 0.02727574618180719\n",
      "Среднее значение функции потерь на валидации 1.0561880105632846\n",
      "Новая лучшая модель!\n",
      "\n",
      "Эпоха 76\n",
      "Эпоха: 354 итераций, 2.38 сек\n",
      "Среднее значение функции потерь на обучении 0.026345298904399413\n",
      "Среднее значение функции потерь на валидации 1.0567364582823495\n",
      "\n",
      "Эпоха 77\n",
      "Эпоха: 354 итераций, 2.18 сек\n",
      "Среднее значение функции потерь на обучении 0.025503751998083236\n",
      "Среднее значение функции потерь на валидации 1.0560599448064627\n",
      "Новая лучшая модель!\n",
      "\n",
      "Эпоха 78\n",
      "Эпоха: 354 итераций, 2.24 сек\n",
      "Среднее значение функции потерь на обучении 0.024628094790140324\n",
      "Среднее значение функции потерь на валидации 1.0570156152470638\n",
      "\n",
      "Эпоха 79\n",
      "Эпоха: 354 итераций, 2.25 сек\n",
      "Среднее значение функции потерь на обучении 0.023855577979373644\n",
      "Среднее значение функции потерь на валидации 1.0530359199491597\n",
      "Новая лучшая модель!\n",
      "\n",
      "Эпоха 80\n",
      "Эпоха: 354 итераций, 2.22 сек\n",
      "Среднее значение функции потерь на обучении 0.02312462098467674\n",
      "Среднее значение функции потерь на валидации 1.051388830072799\n",
      "Новая лучшая модель!\n",
      "\n",
      "Эпоха 81\n",
      "Эпоха: 354 итераций, 2.22 сек\n",
      "Среднее значение функции потерь на обучении 0.022326257754325087\n",
      "Среднее значение функции потерь на валидации 1.0510179485052318\n",
      "Новая лучшая модель!\n",
      "\n",
      "Эпоха 82\n",
      "Эпоха: 354 итераций, 2.19 сек\n",
      "Среднее значение функции потерь на обучении 0.02166792757396118\n",
      "Среднее значение функции потерь на валидации 1.050076196885715\n",
      "Новая лучшая модель!\n",
      "\n",
      "Эпоха 83\n",
      "Эпоха: 354 итераций, 2.18 сек\n",
      "Среднее значение функции потерь на обучении 0.021087143337354064\n",
      "Среднее значение функции потерь на валидации 1.0491039001588094\n",
      "Новая лучшая модель!\n",
      "\n",
      "Эпоха 84\n",
      "Эпоха: 354 итераций, 2.20 сек\n",
      "Среднее значение функции потерь на обучении 0.020424808744514772\n",
      "Среднее значение функции потерь на валидации 1.049537900772135\n",
      "\n",
      "Эпоха 85\n",
      "Эпоха: 354 итераций, 2.22 сек\n",
      "Среднее значение функции потерь на обучении 0.019820134953258947\n",
      "Среднее значение функции потерь на валидации 1.049738543392238\n",
      "\n",
      "Эпоха 86\n",
      "Эпоха: 354 итераций, 2.20 сек\n",
      "Среднее значение функции потерь на обучении 0.019239901439392002\n",
      "Среднее значение функции потерь на валидации 1.0474011203495122\n",
      "Новая лучшая модель!\n",
      "\n",
      "Эпоха 87\n",
      "Эпоха: 354 итераций, 2.18 сек\n",
      "Среднее значение функции потерь на обучении 0.018664269242435694\n",
      "Среднее значение функции потерь на валидации 1.049334947335518\n",
      "\n",
      "Эпоха 88\n",
      "Эпоха: 354 итераций, 2.19 сек\n",
      "Среднее значение функции потерь на обучении 0.018156290571284244\n",
      "Среднее значение функции потерь на валидации 1.045721719325599\n",
      "Новая лучшая модель!\n",
      "\n",
      "Эпоха 89\n",
      "Эпоха: 354 итераций, 2.17 сек\n",
      "Среднее значение функции потерь на обучении 0.01765533736453123\n",
      "Среднее значение функции потерь на валидации 1.0457388393707194\n",
      "\n",
      "Эпоха 90\n",
      "Эпоха: 354 итераций, 2.19 сек\n",
      "Среднее значение функции потерь на обучении 0.01716464744633495\n",
      "Среднее значение функции потерь на валидации 1.0451331442948115\n",
      "Новая лучшая модель!\n",
      "\n",
      "Эпоха 91\n",
      "Эпоха: 354 итераций, 2.19 сек\n",
      "Среднее значение функции потерь на обучении 0.016695132659614025\n",
      "Среднее значение функции потерь на валидации 1.0439252924110929\n",
      "Новая лучшая модель!\n",
      "\n",
      "Эпоха 92\n",
      "Эпоха: 354 итераций, 2.19 сек\n",
      "Среднее значение функции потерь на обучении 0.016233889841195722\n",
      "Среднее значение функции потерь на валидации 1.045370998018879\n",
      "\n",
      "Эпоха 93\n",
      "Эпоха: 354 итераций, 2.22 сек\n",
      "Среднее значение функции потерь на обучении 0.015813358867012153\n",
      "Среднее значение функции потерь на валидации 1.0445185414815352\n",
      "\n",
      "Эпоха 94\n",
      "Эпоха: 354 итераций, 2.20 сек\n",
      "Среднее значение функции потерь на обучении 0.015348392768597261\n",
      "Среднее значение функции потерь на валидации 1.0451664564720655\n",
      "\n",
      "Эпоха 95\n",
      "Эпоха: 354 итераций, 2.22 сек\n",
      "Среднее значение функции потерь на обучении 0.015004469834512762\n",
      "Среднее значение функции потерь на валидации 1.044969954354278\n",
      "\n",
      "Эпоха 96\n",
      "Эпоха: 354 итераций, 2.20 сек\n",
      "Среднее значение функции потерь на обучении 0.01457906932333921\n",
      "Среднее значение функции потерь на валидации 1.0458420901480368\n",
      "\n",
      "Эпоха 97\n",
      "Эпоха: 354 итераций, 2.18 сек\n",
      "Среднее значение функции потерь на обучении 0.014200796764692564\n",
      "Среднее значение функции потерь на валидации 1.0457859473713373\n",
      "\n",
      "Эпоха 98\n",
      "Эпоха: 354 итераций, 2.20 сек\n",
      "Среднее значение функции потерь на обучении 0.013866885859794825\n",
      "Среднее значение функции потерь на валидации 1.047567158558611\n",
      "\n",
      "Эпоха 99\n",
      "Эпоха: 354 итераций, 2.21 сек\n",
      "Среднее значение функции потерь на обучении 0.013518994025745308\n",
      "Среднее значение функции потерь на валидации 1.047041398867712\n",
      "\n",
      "Эпоха 100\n",
      "Эпоха: 354 итераций, 2.19 сек\n",
      "Среднее значение функции потерь на обучении 0.013190370726058429\n",
      "Среднее значение функции потерь на валидации 1.046918063471883\n",
      "\n",
      "Эпоха 101\n",
      "Эпоха: 354 итераций, 2.22 сек\n",
      "Среднее значение функции потерь на обучении 0.012854698847119019\n",
      "Среднее значение функции потерь на валидации 1.0471986667332003\n",
      "\n",
      "Эпоха 102\n",
      "Эпоха: 354 итераций, 2.20 сек\n",
      "Среднее значение функции потерь на обучении 0.012553313835017583\n",
      "Среднее значение функции потерь на валидации 1.0496579608169652\n",
      "Модель не улучшилась за последние 10 эпох, прекращаем обучение\n"
     ]
    }
   ],
   "source": [
    "model = nn.Linear(UNIQUE_WORDS_N, UNIQUE_LABELS_N)\n",
    "\n",
    "scheduler = lambda optim: \\\n",
    "    torch.optim.lr_scheduler.ReduceLROnPlateau(optim, patience=10, factor=0.2, verbose=True)\n",
    "\n",
    "best_val_loss, best_model = train_eval_loop(model=model,\n",
    "                                            train_dataset=train_dataset,\n",
    "                                            val_dataset=test_dataset,\n",
    "                                            criterion=F.cross_entropy,\n",
    "                                            lr=1e-2,\n",
    "                                            epoch_n=300,\n",
    "                                            batch_size=32,\n",
    "                                            l2_reg_alpha=0,\n",
    "                                            lr_scheduler_ctor=scheduler)"
   ]
  },
  {
   "cell_type": "markdown",
   "metadata": {},
   "source": [
    "## Оценка качества"
   ]
  },
  {
   "cell_type": "code",
   "execution_count": 37,
   "metadata": {
    "ExecuteTime": {
     "end_time": "2019-09-12T12:46:25.105663Z",
     "start_time": "2019-09-12T12:46:22.373012Z"
    }
   },
   "outputs": [
    {
     "name": "stderr",
     "output_type": "stream",
     "text": [
      "100%|██████████| 354/353.5625 [00:01<00:00, 283.00it/s]\n"
     ]
    },
    {
     "name": "stdout",
     "output_type": "stream",
     "text": [
      "Среднее значение функции потерь на обучении 0.016008691862225533\n",
      "Доля верных ответов 0.9993812975075128\n",
      "\n"
     ]
    },
    {
     "name": "stderr",
     "output_type": "stream",
     "text": [
      "236it [00:00, 286.96it/s]                             "
     ]
    },
    {
     "name": "stdout",
     "output_type": "stream",
     "text": [
      "Среднее значение функции потерь на валидации 1.042398452758789\n",
      "Доля верных ответов 0.7534519383961763\n"
     ]
    },
    {
     "name": "stderr",
     "output_type": "stream",
     "text": [
      "\n"
     ]
    }
   ],
   "source": [
    "train_pred = predict_with_model(best_model, train_dataset)\n",
    "\n",
    "train_loss = F.cross_entropy(torch.from_numpy(train_pred),\n",
    "                             torch.from_numpy(train_source['target']).long())\n",
    "\n",
    "print('Среднее значение функции потерь на обучении', float(train_loss))\n",
    "print('Доля верных ответов', accuracy_score(train_source['target'], train_pred.argmax(-1)))\n",
    "print()\n",
    "\n",
    "\n",
    "\n",
    "test_pred = predict_with_model(best_model, test_dataset)\n",
    "\n",
    "test_loss = F.cross_entropy(torch.from_numpy(test_pred),\n",
    "                            torch.from_numpy(test_source['target']).long())\n",
    "\n",
    "print('Среднее значение функции потерь на валидации', float(test_loss))\n",
    "print('Доля верных ответов', accuracy_score(test_source['target'], test_pred.argmax(-1)))"
   ]
  },
  {
   "cell_type": "markdown",
   "metadata": {},
   "source": [
    "# Альтернативная реализация на scikit-learn"
   ]
  },
  {
   "cell_type": "code",
   "execution_count": 33,
   "metadata": {
    "ExecuteTime": {
     "end_time": "2019-09-12T12:46:31.791405Z",
     "start_time": "2019-09-12T12:46:25.107897Z"
    },
    "scrolled": false
   },
   "outputs": [],
   "source": [
    "from sklearn.feature_extraction.text import TfidfVectorizer\n",
    "from sklearn.pipeline import Pipeline\n",
    "from sklearn.linear_model import LogisticRegression\n",
    "\n",
    "sklearn_pipeline = Pipeline((('vect', TfidfVectorizer(tokenizer=tokenize_text_simple_regex,\n",
    "                                                      max_df=MAX_DF,\n",
    "                                                      min_df=MIN_COUNT)),\n",
    "                             ('cls', LogisticRegression())))\n",
    "sklearn_pipeline.fit(train_source['data'], train_source['target']);"
   ]
  },
  {
   "cell_type": "markdown",
   "metadata": {},
   "source": [
    "## Оценка качества"
   ]
  },
  {
   "cell_type": "code",
   "execution_count": 34,
   "metadata": {
    "ExecuteTime": {
     "end_time": "2019-09-12T12:46:35.454567Z",
     "start_time": "2019-09-12T12:46:31.792832Z"
    }
   },
   "outputs": [
    {
     "name": "stdout",
     "output_type": "stream",
     "text": [
      "Среднее значение функции потерь на обучении 2.4954788917367474\n",
      "Доля верных ответов 0.9716280714159449\n",
      "\n",
      "Среднее значение функции потерь на валидации 2.653902258130049\n",
      "Доля верных ответов 0.8190387679235263\n"
     ]
    }
   ],
   "source": [
    "sklearn_train_pred = sklearn_pipeline.predict_proba(train_source['data'])\n",
    "sklearn_train_loss = F.cross_entropy(torch.from_numpy(sklearn_train_pred),\n",
    "                                                 torch.from_numpy(train_source['target']))\n",
    "print('Среднее значение функции потерь на обучении', float(sklearn_train_loss))\n",
    "print('Доля верных ответов', accuracy_score(train_source['target'], sklearn_train_pred.argmax(-1)))\n",
    "print()\n",
    "\n",
    "sklearn_test_pred = sklearn_pipeline.predict_proba(test_source['data'])\n",
    "sklearn_test_loss = F.cross_entropy(torch.from_numpy(sklearn_test_pred),\n",
    "                                                torch.from_numpy(test_source['target']))\n",
    "print('Среднее значение функции потерь на валидации', float(sklearn_test_loss))\n",
    "print('Доля верных ответов', accuracy_score(test_source['target'], sklearn_test_pred.argmax(-1)))"
   ]
  },
  {
   "cell_type": "code",
   "execution_count": null,
   "metadata": {},
   "outputs": [],
   "source": []
  }
 ],
 "metadata": {
  "interpreter": {
   "hash": "00125c6e5922b1d36e973e80bd3f7977debb1f35a6d2102f4b9bdb0261afff1c"
  },
  "kernelspec": {
   "display_name": "Python 3.9.6 64-bit ('study_env': conda)",
   "name": "python3"
  },
  "language_info": {
   "codemirror_mode": {
    "name": "ipython",
    "version": 3
   },
   "file_extension": ".py",
   "mimetype": "text/x-python",
   "name": "python",
   "nbconvert_exporter": "python",
   "pygments_lexer": "ipython3",
   "version": "3.9.6"
  },
  "latex_envs": {
   "LaTeX_envs_menu_present": true,
   "autoclose": false,
   "autocomplete": true,
   "bibliofile": "biblio.bib",
   "cite_by": "apalike",
   "current_citInitial": 1,
   "eqLabelWithNumbers": true,
   "eqNumInitial": 1,
   "hotkeys": {
    "equation": "Ctrl-E",
    "itemize": "Ctrl-I"
   },
   "labels_anchors": false,
   "latex_user_defs": false,
   "report_style_numbering": false,
   "user_envs_cfg": false
  },
  "metadata": {
   "interpreter": {
    "hash": "4c329bf4079d747e1aae7825176edb1441116ebbecffd94997acb3992c7bbc10"
   }
  },
  "toc": {
   "base_numbering": 1,
   "nav_menu": {},
   "number_sections": true,
   "sideBar": true,
   "skip_h1_title": false,
   "title_cell": "Table of Contents",
   "title_sidebar": "Contents",
   "toc_cell": false,
   "toc_position": {},
   "toc_section_display": true,
   "toc_window_display": true
  }
 },
 "nbformat": 4,
 "nbformat_minor": 2
}
